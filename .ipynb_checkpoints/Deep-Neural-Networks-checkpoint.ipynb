{
 "cells": [
  {
   "cell_type": "code",
   "execution_count": 1,
   "metadata": {},
   "outputs": [
    {
     "name": "stderr",
     "output_type": "stream",
     "text": [
      "Using TensorFlow backend.\n"
     ]
    }
   ],
   "source": [
    "import numpy as np\n",
    "import matplotlib.pyplot as plt\n",
    "from sklearn import datasets\n",
    "import keras\n",
    "from keras.models import Sequential\n",
    "from keras.layers import Dense\n",
    "from keras.optimizers import Adam"
   ]
  },
  {
   "cell_type": "code",
   "execution_count": 2,
   "metadata": {},
   "outputs": [],
   "source": [
    "np.random.seed(0)"
   ]
  },
  {
   "cell_type": "code",
   "execution_count": 3,
   "metadata": {},
   "outputs": [],
   "source": [
    "n_pts = 500\n",
    "X, y = datasets.make_circles(n_samples=n_pts, random_state = 123, noise=0.1, factor=0.2)"
   ]
  },
  {
   "cell_type": "code",
   "execution_count": 4,
   "metadata": {},
   "outputs": [
    {
     "data": {
      "text/plain": [
       "<matplotlib.collections.PathCollection at 0x1637b2ff388>"
      ]
     },
     "execution_count": 4,
     "metadata": {},
     "output_type": "execute_result"
    },
    {
     "data": {
      "image/png": "[encoded data removed]",
      "text/plain": [
       "<Figure size 432x288 with 1 Axes>"
      ]
     },
     "metadata": {
      "needs_background": "light"
     },
     "output_type": "display_data"
    }
   ],
   "source": [
    "plt.scatter(X[y==0, 0], X[y==0, 1])\n",
    "plt.scatter(X[y==1, 0], X[y==1, 1])"
   ]
  },
  {
   "cell_type": "code",
   "execution_count": 5,
   "metadata": {
    "collapsed": true,
    "jupyter": {
     "outputs_hidden": true
    }
   },
   "outputs": [
    {
     "name": "stdout",
     "output_type": "stream",
     "text": [
      "WARNING:tensorflow:From C:\\Users\\ayush\\.conda\\envs\\tensorflow-env\\lib\\site-packages\\keras\\backend\\tensorflow_backend.py:74: The name tf.get_default_graph is deprecated. Please use tf.compat.v1.get_default_graph instead.\n",
      "\n",
      "WARNING:tensorflow:From C:\\Users\\ayush\\.conda\\envs\\tensorflow-env\\lib\\site-packages\\keras\\backend\\tensorflow_backend.py:517: The name tf.placeholder is deprecated. Please use tf.compat.v1.placeholder instead.\n",
      "\n",
      "WARNING:tensorflow:From C:\\Users\\ayush\\.conda\\envs\\tensorflow-env\\lib\\site-packages\\keras\\backend\\tensorflow_backend.py:4138: The name tf.random_uniform is deprecated. Please use tf.random.uniform instead.\n",
      "\n",
      "WARNING:tensorflow:From C:\\Users\\ayush\\.conda\\envs\\tensorflow-env\\lib\\site-packages\\keras\\optimizers.py:790: The name tf.train.Optimizer is deprecated. Please use tf.compat.v1.train.Optimizer instead.\n",
      "\n",
      "WARNING:tensorflow:From C:\\Users\\ayush\\.conda\\envs\\tensorflow-env\\lib\\site-packages\\keras\\backend\\tensorflow_backend.py:3376: The name tf.log is deprecated. Please use tf.math.log instead.\n",
      "\n",
      "WARNING:tensorflow:From C:\\Users\\ayush\\.conda\\envs\\tensorflow-env\\lib\\site-packages\\tensorflow_core\\python\\ops\\nn_impl.py:183: where (from tensorflow.python.ops.array_ops) is deprecated and will be removed in a future version.\n",
      "Instructions for updating:\n",
      "Use tf.where in 2.0, which has the same broadcast rule as np.where\n"
     ]
    }
   ],
   "source": [
    "# Import the Sequential class to create a neural network model.\n",
    "model = Sequential()\n",
    "# Adding Dense types of layers. Here, we aim to create 3 layers(i/p, o/p and hidden) of Dense layer\n",
    "# i/p layer has 2 nodes(input_shape) \n",
    "# hidden layer has 4 node(units) \n",
    "model.add(Dense(units = 4, input_shape = (2,), activation = 'sigmoid'))\n",
    "# Here we added the output layer. It has just 1 node(units = 1)\n",
    "model.add(Dense(units = 1, activation = 'sigmoid'))\n",
    "# Adam is an optimizer which will be used in the model for optimization and minimizing error. Learning rate is specified by lr.\n",
    "# Specifying some properties of our model. It will use the adam optimizer. The error(loss) would be of binary cross entropy.\n",
    "model.compile(Adam(lr = 0.01), 'binary_crossentropy', metrics = ['accuracy'])"
   ]
  },
  {
   "cell_type": "code",
   "execution_count": 6,
   "metadata": {
    "collapsed": true,
    "jupyter": {
     "outputs_hidden": true
    }
   },
   "outputs": [
    {
     "name": "stdout",
     "output_type": "stream",
     "text": [
      "WARNING:tensorflow:From C:\\Users\\ayush\\.conda\\envs\\tensorflow-env\\lib\\site-packages\\keras\\backend\\tensorflow_backend.py:986: The name tf.assign_add is deprecated. Please use tf.compat.v1.assign_add instead.\n",
      "\n",
      "WARNING:tensorflow:From C:\\Users\\ayush\\.conda\\envs\\tensorflow-env\\lib\\site-packages\\keras\\backend\\tensorflow_backend.py:973: The name tf.assign is deprecated. Please use tf.compat.v1.assign instead.\n",
      "\n",
      "WARNING:tensorflow:From C:\\Users\\ayush\\.conda\\envs\\tensorflow-env\\lib\\site-packages\\keras\\backend\\tensorflow_backend.py:2741: The name tf.Session is deprecated. Please use tf.compat.v1.Session instead.\n",
      "\n",
      "Epoch 1/100\n",
      "WARNING:tensorflow:From C:\\Users\\ayush\\.conda\\envs\\tensorflow-env\\lib\\site-packages\\keras\\backend\\tensorflow_backend.py:174: The name tf.get_default_session is deprecated. Please use tf.compat.v1.get_default_session instead.\n",
      "\n",
      "WARNING:tensorflow:From C:\\Users\\ayush\\.conda\\envs\\tensorflow-env\\lib\\site-packages\\keras\\backend\\tensorflow_backend.py:181: The name tf.ConfigProto is deprecated. Please use tf.compat.v1.ConfigProto instead.\n",
      "\n",
      "WARNING:tensorflow:From C:\\Users\\ayush\\.conda\\envs\\tensorflow-env\\lib\\site-packages\\keras\\backend\\tensorflow_backend.py:190: The name tf.global_variables is deprecated. Please use tf.compat.v1.global_variables instead.\n",
      "\n",
      "WARNING:tensorflow:From C:\\Users\\ayush\\.conda\\envs\\tensorflow-env\\lib\\site-packages\\keras\\backend\\tensorflow_backend.py:199: The name tf.is_variable_initialized is deprecated. Please use tf.compat.v1.is_variable_initialized instead.\n",
      "\n",
      "WARNING:tensorflow:From C:\\Users\\ayush\\.conda\\envs\\tensorflow-env\\lib\\site-packages\\keras\\backend\\tensorflow_backend.py:206: The name tf.variables_initializer is deprecated. Please use tf.compat.v1.variables_initializer instead.\n",
      "\n",
      "500/500 [==============================] - 0s 855us/step - loss: 0.6959 - acc: 0.5100\n",
      "Epoch 2/100\n",
      "500/500 [==============================] - 0s 62us/step - loss: 0.6937 - acc: 0.6200\n",
      "Epoch 3/100\n",
      "500/500 [==============================] - 0s 54us/step - loss: 0.6925 - acc: 0.5140\n",
      "Epoch 4/100\n",
      "500/500 [==============================] - 0s 48us/step - loss: 0.6916 - acc: 0.6780\n",
      "Epoch 5/100\n",
      "500/500 [==============================] - 0s 63us/step - loss: 0.6905 - acc: 0.6320\n",
      "Epoch 6/100\n",
      "500/500 [==============================] - 0s 48us/step - loss: 0.6890 - acc: 0.3640\n",
      "Epoch 7/100\n",
      "500/500 [==============================] - 0s 54us/step - loss: 0.6865 - acc: 0.6460\n",
      "Epoch 8/100\n",
      "500/500 [==============================] - 0s 54us/step - loss: 0.6838 - acc: 0.6740\n",
      "Epoch 9/100\n",
      "500/500 [==============================] - 0s 54us/step - loss: 0.6796 - acc: 0.7580\n",
      "Epoch 10/100\n",
      "500/500 [==============================] - 0s 56us/step - loss: 0.6733 - acc: 0.7980\n",
      "Epoch 11/100\n",
      "500/500 [==============================] - 0s 54us/step - loss: 0.6658 - acc: 0.8400\n",
      "Epoch 12/100\n",
      "500/500 [==============================] - 0s 60us/step - loss: 0.6546 - acc: 0.8600\n",
      "Epoch 13/100\n",
      "500/500 [==============================] - 0s 70us/step - loss: 0.6419 - acc: 0.8780\n",
      "Epoch 14/100\n",
      "500/500 [==============================] - 0s 63us/step - loss: 0.6267 - acc: 0.8920\n",
      "Epoch 15/100\n",
      "500/500 [==============================] - 0s 57us/step - loss: 0.6075 - acc: 0.8800\n",
      "Epoch 16/100\n",
      "500/500 [==============================] - 0s 50us/step - loss: 0.5880 - acc: 0.8700\n",
      "Epoch 17/100\n",
      "500/500 [==============================] - 0s 64us/step - loss: 0.5674 - acc: 0.8840\n",
      "Epoch 18/100\n",
      "500/500 [==============================] - 0s 64us/step - loss: 0.5440 - acc: 0.8560\n",
      "Epoch 19/100\n",
      "500/500 [==============================] - 0s 51us/step - loss: 0.5218 - acc: 0.8860\n",
      "Epoch 20/100\n",
      "500/500 [==============================] - 0s 58us/step - loss: 0.4974 - acc: 0.8880\n",
      "Epoch 21/100\n",
      "500/500 [==============================] - 0s 60us/step - loss: 0.4750 - acc: 0.8880\n",
      "Epoch 22/100\n",
      "500/500 [==============================] - 0s 74us/step - loss: 0.4523 - acc: 0.8920\n",
      "Epoch 23/100\n",
      "500/500 [==============================] - 0s 70us/step - loss: 0.4300 - acc: 0.8920\n",
      "Epoch 24/100\n",
      "500/500 [==============================] - 0s 54us/step - loss: 0.4092 - acc: 0.9040\n",
      "Epoch 25/100\n",
      "500/500 [==============================] - 0s 52us/step - loss: 0.3898 - acc: 0.9000\n",
      "Epoch 26/100\n",
      "500/500 [==============================] - 0s 63us/step - loss: 0.3700 - acc: 0.9140\n",
      "Epoch 27/100\n",
      "500/500 [==============================] - 0s 58us/step - loss: 0.3516 - acc: 0.9100\n",
      "Epoch 28/100\n",
      "500/500 [==============================] - 0s 46us/step - loss: 0.3344 - acc: 0.9160\n",
      "Epoch 29/100\n",
      "500/500 [==============================] - 0s 54us/step - loss: 0.3176 - acc: 0.9180\n",
      "Epoch 30/100\n",
      "500/500 [==============================] - 0s 52us/step - loss: 0.3021 - acc: 0.9220\n",
      "Epoch 31/100\n",
      "500/500 [==============================] - 0s 58us/step - loss: 0.2871 - acc: 0.9240\n",
      "Epoch 32/100\n",
      "500/500 [==============================] - 0s 46us/step - loss: 0.2735 - acc: 0.9320\n",
      "Epoch 33/100\n",
      "500/500 [==============================] - 0s 48us/step - loss: 0.2606 - acc: 0.9400\n",
      "Epoch 34/100\n",
      "500/500 [==============================] - 0s 44us/step - loss: 0.2486 - acc: 0.9440\n",
      "Epoch 35/100\n",
      "500/500 [==============================] - 0s 57us/step - loss: 0.2369 - acc: 0.9640\n",
      "Epoch 36/100\n",
      "500/500 [==============================] - 0s 45us/step - loss: 0.2258 - acc: 0.9800\n",
      "Epoch 37/100\n",
      "500/500 [==============================] - 0s 64us/step - loss: 0.2159 - acc: 0.9860\n",
      "Epoch 38/100\n",
      "500/500 [==============================] - 0s 44us/step - loss: 0.2060 - acc: 0.9860\n",
      "Epoch 39/100\n",
      "500/500 [==============================] - 0s 54us/step - loss: 0.1966 - acc: 0.9900\n",
      "Epoch 40/100\n",
      "500/500 [==============================] - 0s 54us/step - loss: 0.1876 - acc: 0.9940\n",
      "Epoch 41/100\n",
      "500/500 [==============================] - 0s 48us/step - loss: 0.1792 - acc: 0.9940\n",
      "Epoch 42/100\n",
      "500/500 [==============================] - 0s 46us/step - loss: 0.1712 - acc: 0.9940\n",
      "Epoch 43/100\n",
      "500/500 [==============================] - 0s 48us/step - loss: 0.1636 - acc: 0.9960\n",
      "Epoch 44/100\n",
      "500/500 [==============================] - 0s 60us/step - loss: 0.1562 - acc: 0.9960\n",
      "Epoch 45/100\n",
      "500/500 [==============================] - ETA: 0s - loss: 0.1524 - acc: 1.000 - 0s 68us/step - loss: 0.1492 - acc: 0.9960\n",
      "Epoch 46/100\n",
      "500/500 [==============================] - 0s 62us/step - loss: 0.1421 - acc: 0.9960\n",
      "Epoch 47/100\n",
      "500/500 [==============================] - 0s 56us/step - loss: 0.1353 - acc: 0.9960\n",
      "Epoch 48/100\n",
      "500/500 [==============================] - 0s 60us/step - loss: 0.1284 - acc: 0.9960\n",
      "Epoch 49/100\n",
      "500/500 [==============================] - 0s 66us/step - loss: 0.1213 - acc: 0.9960\n",
      "Epoch 50/100\n",
      "500/500 [==============================] - 0s 64us/step - loss: 0.1149 - acc: 0.9960\n",
      "Epoch 51/100\n",
      "500/500 [==============================] - 0s 52us/step - loss: 0.1082 - acc: 0.9960\n",
      "Epoch 52/100\n",
      "500/500 [==============================] - 0s 62us/step - loss: 0.1022 - acc: 0.9960\n",
      "Epoch 53/100\n",
      "500/500 [==============================] - 0s 54us/step - loss: 0.0967 - acc: 0.9960\n",
      "Epoch 54/100\n",
      "500/500 [==============================] - 0s 64us/step - loss: 0.0914 - acc: 0.9960\n",
      "Epoch 55/100\n",
      "500/500 [==============================] - 0s 62us/step - loss: 0.0867 - acc: 0.9960\n",
      "Epoch 56/100\n",
      "500/500 [==============================] - 0s 50us/step - loss: 0.0824 - acc: 0.9960\n",
      "Epoch 57/100\n",
      "500/500 [==============================] - 0s 62us/step - loss: 0.0784 - acc: 0.9980\n",
      "Epoch 58/100\n",
      "500/500 [==============================] - 0s 86us/step - loss: 0.0747 - acc: 0.9980\n",
      "Epoch 59/100\n",
      "500/500 [==============================] - 0s 50us/step - loss: 0.0713 - acc: 0.9980\n",
      "Epoch 60/100\n",
      "500/500 [==============================] - 0s 72us/step - loss: 0.0683 - acc: 0.9980\n",
      "Epoch 61/100\n",
      "500/500 [==============================] - 0s 69us/step - loss: 0.0653 - acc: 0.9980\n",
      "Epoch 62/100\n",
      "500/500 [==============================] - 0s 50us/step - loss: 0.0627 - acc: 0.9980\n",
      "Epoch 63/100\n",
      "500/500 [==============================] - 0s 67us/step - loss: 0.0602 - acc: 0.9980\n",
      "Epoch 64/100\n",
      "500/500 [==============================] - 0s 56us/step - loss: 0.0579 - acc: 0.9980\n",
      "Epoch 65/100\n",
      "500/500 [==============================] - 0s 48us/step - loss: 0.0557 - acc: 0.9980\n",
      "Epoch 66/100\n",
      "500/500 [==============================] - 0s 70us/step - loss: 0.0537 - acc: 0.9980\n",
      "Epoch 67/100\n",
      "500/500 [==============================] - 0s 62us/step - loss: 0.0518 - acc: 0.9980\n",
      "Epoch 68/100\n",
      "500/500 [==============================] - 0s 53us/step - loss: 0.0499 - acc: 0.9980\n",
      "Epoch 69/100\n",
      "500/500 [==============================] - 0s 66us/step - loss: 0.0483 - acc: 0.9980\n",
      "Epoch 70/100\n",
      "500/500 [==============================] - 0s 48us/step - loss: 0.0467 - acc: 0.9980\n",
      "Epoch 71/100\n",
      "500/500 [==============================] - 0s 53us/step - loss: 0.0452 - acc: 0.9980\n",
      "Epoch 72/100\n",
      "500/500 [==============================] - 0s 58us/step - loss: 0.0438 - acc: 0.9980\n",
      "Epoch 73/100\n",
      "500/500 [==============================] - 0s 59us/step - loss: 0.0425 - acc: 0.9980\n",
      "Epoch 74/100\n",
      "500/500 [==============================] - 0s 70us/step - loss: 0.0411 - acc: 0.9980\n",
      "Epoch 75/100\n",
      "500/500 [==============================] - 0s 70us/step - loss: 0.0399 - acc: 0.9980\n",
      "Epoch 76/100\n",
      "500/500 [==============================] - 0s 65us/step - loss: 0.0388 - acc: 0.9980\n",
      "Epoch 77/100\n",
      "500/500 [==============================] - 0s 54us/step - loss: 0.0377 - acc: 0.9980\n",
      "Epoch 78/100\n",
      "500/500 [==============================] - 0s 60us/step - loss: 0.0366 - acc: 0.9980\n",
      "Epoch 79/100\n",
      "500/500 [==============================] - 0s 60us/step - loss: 0.0356 - acc: 0.9980\n",
      "Epoch 80/100\n",
      "500/500 [==============================] - 0s 56us/step - loss: 0.0347 - acc: 0.9980\n",
      "Epoch 81/100\n",
      "500/500 [==============================] - 0s 60us/step - loss: 0.0339 - acc: 0.9980\n",
      "Epoch 82/100\n",
      "500/500 [==============================] - 0s 56us/step - loss: 0.0329 - acc: 0.9980\n",
      "Epoch 83/100\n",
      "500/500 [==============================] - 0s 58us/step - loss: 0.0320 - acc: 0.9980\n",
      "Epoch 84/100\n",
      "500/500 [==============================] - 0s 58us/step - loss: 0.0312 - acc: 0.9980\n",
      "Epoch 85/100\n",
      "500/500 [==============================] - 0s 50us/step - loss: 0.0305 - acc: 0.9980\n",
      "Epoch 86/100\n",
      "500/500 [==============================] - 0s 58us/step - loss: 0.0297 - acc: 1.0000\n",
      "Epoch 87/100\n",
      "500/500 [==============================] - 0s 88us/step - loss: 0.0290 - acc: 1.0000\n",
      "Epoch 88/100\n",
      "500/500 [==============================] - 0s 52us/step - loss: 0.0283 - acc: 1.0000\n",
      "Epoch 89/100\n",
      "500/500 [==============================] - 0s 50us/step - loss: 0.0277 - acc: 1.0000\n",
      "Epoch 90/100\n",
      "500/500 [==============================] - 0s 74us/step - loss: 0.0270 - acc: 1.0000\n",
      "Epoch 91/100\n",
      "500/500 [==============================] - 0s 84us/step - loss: 0.0264 - acc: 1.0000\n",
      "Epoch 92/100\n",
      "500/500 [==============================] - 0s 64us/step - loss: 0.0259 - acc: 1.0000\n",
      "Epoch 93/100\n",
      "500/500 [==============================] - 0s 94us/step - loss: 0.0253 - acc: 1.0000\n",
      "Epoch 94/100\n",
      "500/500 [==============================] - 0s 58us/step - loss: 0.0247 - acc: 1.0000\n",
      "Epoch 95/100\n",
      "500/500 [==============================] - 0s 52us/step - loss: 0.0242 - acc: 1.0000\n",
      "Epoch 96/100\n",
      "500/500 [==============================] - 0s 46us/step - loss: 0.0237 - acc: 1.0000\n",
      "Epoch 97/100\n",
      "500/500 [==============================] - 0s 44us/step - loss: 0.0232 - acc: 1.0000\n",
      "Epoch 98/100\n",
      "500/500 [==============================] - 0s 40us/step - loss: 0.0227 - acc: 1.0000\n",
      "Epoch 99/100\n",
      "500/500 [==============================] - 0s 44us/step - loss: 0.0222 - acc: 1.0000\n",
      "Epoch 100/100\n",
      "500/500 [==============================] - 0s 42us/step - loss: 0.0217 - acc: 1.0000\n"
     ]
    }
   ],
   "source": [
    "# Training the model. x and y means the input data and labels respectively.\n",
    "h = model.fit(x = X, y = y, verbose = 1, batch_size = 20, epochs = 100, shuffle = 'true')"
   ]
  },
  {
   "cell_type": "code",
   "execution_count": 7,
   "metadata": {},
   "outputs": [
    {
     "data": {
      "text/plain": [
       "Text(0.5, 0, 'epoch')"
      ]
     },
     "execution_count": 7,
     "metadata": {},
     "output_type": "execute_result"
    },
    {
     "data": {
      "image/png": "[encoded data removed]",
      "text/plain": [
       "<Figure size 432x288 with 1 Axes>"
      ]
     },
     "metadata": {
      "needs_background": "light"
     },
     "output_type": "display_data"
    }
   ],
   "source": [
    "plt.plot(h.history['acc'])\n",
    "plt.legend(['accuracy'])\n",
    "plt.ylabel('accuracy')\n",
    "plt.xlabel('epoch')"
   ]
  },
  {
   "cell_type": "code",
   "execution_count": 8,
   "metadata": {},
   "outputs": [
    {
     "data": {
      "text/plain": [
       "Text(0.5, 0, 'epoch')"
      ]
     },
     "execution_count": 8,
     "metadata": {},
     "output_type": "execute_result"
    },
    {
     "data": {
      "image/png": "[encoded data removed]",
      "text/plain": [
       "<Figure size 432x288 with 1 Axes>"
      ]
     },
     "metadata": {
      "needs_background": "light"
     },
     "output_type": "display_data"
    }
   ],
   "source": [
    "plt.plot(h.history['loss'])\n",
    "plt.legend(['loss'])\n",
    "plt.title('loss')\n",
    "plt.xlabel('epoch')"
   ]
  },
  {
   "cell_type": "code",
   "execution_count": 9,
   "metadata": {},
   "outputs": [],
   "source": [
    "def plot_decision_boundary(X, y, model):\n",
    "    # x_span contains 50 horizontal(along x-axis) values spaced at equal intervals ranging from the minimum-0.25 to maximum+0.25. Shape is (50,)\n",
    "    x_span = np.linspace(min(X[:,0]) - 0.25, max(X[:,0]) + 0.25)\n",
    "    # y_span contains 50 vertical(along y-axis) values spaced at equal intervals ranging from the minimum-0.25 to maximum+0.25. Shape is (50,)\n",
    "    y_span = np.linspace(min(X[:,1]) - 0.25, max(X[:,1]) + 0.25)\n",
    "    # meshgrid creates a rectangular grid(2D array) from 1D array\n",
    "    # xx contains the repeated copies of x_span in form of identical rows. Shape is (50, 50)\n",
    "    # yy contains the repeated copies of y_span in form of identical columns. Shape is (50, 50)\n",
    "    xx, yy = np.meshgrid(x_span, y_span)\n",
    "    # ravel is somewhat opposite of meshgrid. It is called on a 2D array and returns 1D array. Shape after ravel is (2500, )\n",
    "    # grid is like our test data. grid contains combined data of ravelled xx and y. Data of xx in the first column and data of yy in second column\n",
    "    # Shape is (2500, 2).\n",
    "    grid = np.c_[xx.ravel(), yy.ravel()]\n",
    "    # We send the grid in the predict function of the model. This model tests all the points inside the grid and returns an array of predictions.\n",
    "    # These predictions(pred_func) indicate the probability of any given point labelled as 1. Shape is (2500, 1)\n",
    "    pred_func = model.predict(grid)\n",
    "    # Reshaping pred_func to resemble shape of xx and yy. Shape is (50, 50)\n",
    "    z = pred_func.reshape(xx.shape)\n",
    "    # contourf corelates each specific coordinate with it's repective prediction probability(z).\n",
    "    # Based on that the function plots distinct contour zones each of which represents a distinct probability level\n",
    "    plt.contourf(xx, yy, z)"
   ]
  },
  {
   "cell_type": "code",
   "execution_count": 10,
   "metadata": {},
   "outputs": [
    {
     "data": {
      "text/plain": [
       "<matplotlib.collections.PathCollection at 0x1637d521948>"
      ]
     },
     "execution_count": 10,
     "metadata": {},
     "output_type": "execute_result"
    },
    {
     "data": {
      "image/png": "[encoded data removed]",
      "text/plain": [
       "<Figure size 432x288 with 1 Axes>"
      ]
     },
     "metadata": {
      "needs_background": "light"
     },
     "output_type": "display_data"
    }
   ],
   "source": [
    "plot_decision_boundary(X, y, model)\n",
    "# Plotting original data points on the predicted decision boundary based on the grid(test data)\n",
    "plt.scatter(X[y==0, 0], X[y==0, 1])\n",
    "plt.scatter(X[y==1, 0], X[y==1, 1])"
   ]
  },
  {
   "cell_type": "code",
   "execution_count": 11,
   "metadata": {},
   "outputs": [
    {
     "name": "stdout",
     "output_type": "stream",
     "text": [
      "Prediction is:  [[0.02549436]]\n"
     ]
    },
    {
     "data": {
      "image/png": "[encoded data removed]",
      "text/plain": [
       "<Figure size 432x288 with 1 Axes>"
      ]
     },
     "metadata": {
      "needs_background": "light"
     },
     "output_type": "display_data"
    }
   ],
   "source": [
    "plot_decision_boundary(X, y, model)\n",
    "plt.scatter(X[y==0, 0], X[y==0, 1])\n",
    "plt.scatter(X[y==1, 0], X[y==1, 1])\n",
    "# Checking the probability of this point belonging to region 1\n",
    "x = 0\n",
    "y = 0.75\n",
    "point = np.array([[x, y]])\n",
    "predict = model.predict(point)\n",
    "plt.plot([x], [y], marker='o', markersize=10, color=\"red\")\n",
    "print(\"Prediction is: \", predict)"
   ]
  }
 ],
 "metadata": {
  "kernelspec": {
   "display_name": "Python 3",
   "language": "python",
   "name": "python3"
  },
  "language_info": {
   "codemirror_mode": {
    "name": "ipython",
    "version": 3
   },
   "file_extension": ".py",
   "mimetype": "text/x-python",
   "name": "python",
   "nbconvert_exporter": "python",
   "pygments_lexer": "ipython3",
   "version": "3.7.6"
  }
 },
 "nbformat": 4,
 "nbformat_minor": 4
}
