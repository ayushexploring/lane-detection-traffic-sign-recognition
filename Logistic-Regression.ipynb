{
 "cells": [
  {
   "cell_type": "code",
   "execution_count": 5,
   "metadata": {},
   "outputs": [],
   "source": [
    "import numpy as np\n",
    "import matplotlib.pyplot as plt"
   ]
  },
  {
   "cell_type": "code",
   "execution_count": 6,
   "metadata": {},
   "outputs": [],
   "source": [
    "# Function to draw the line\n",
    "def draw(x1, x2):\n",
    "  ln = plt.plot(x1, x2)\n",
    "\n",
    "# Function to calculate sigmoid score\n",
    "def sigmoid(score):\n",
    "  return 1/(1 + np.exp(-score))\n",
    "\n",
    "# Function to calculate the error\n",
    "def calculate_error(line_parameters, points, y):\n",
    "  n = points.shape[0]\n",
    "  # p is the probability of each point being positive\n",
    "  p = sigmoid(points * line_parameters)\n",
    "  # Calculation of cross_entropy(error) using the mathematical formula\n",
    "  cross_entropy = -(1/n) * (np.log(p).T*y + np.log(1-p).T*(1-y))\n",
    "  return cross_entropy\n",
    "\n",
    "def gradient_descent(line_parameters, points, y , alpha):\n",
    "  n = points.shape[0]\n",
    "  for i in range(2000):\n",
    "    p = sigmoid(points * line_parameters)\n",
    "    gradient = points.T * (p-y) * (alpha/n)\n",
    "    line_parameters = line_parameters - gradient\n",
    "    \n",
    "    w1 = line_parameters.item(0)\n",
    "    w2 = line_parameters.item(1)\n",
    "    b = line_parameters.item(2)\n",
    "    \n",
    "    x1 = np.array([points[:,0].min(), points[:,0].max()])\n",
    "    x2 = -b/w2 + (x1 * (-w1/w2))\n",
    "  draw(x1, x2)"
   ]
  },
  {
   "cell_type": "code",
   "execution_count": 7,
   "metadata": {},
   "outputs": [],
   "source": [
    "# No. of points in each region(top + bottom), i.e. A total of 200 points.\n",
    "n_pts = 100\n",
    "# Set a random state and not randomise on each execution which may results in different points.\n",
    "np.random.seed(0)\n",
    "# Bias value which will be multiplied with the intercept(b).\n",
    "bias = np.ones(n_pts)\n",
    "# Red Points. Generating random points in the top region(red). Shape - (100, 3).\n",
    "# On x-axis(x1), 10 is the central value and 2 is the deviation on either side(left and right).\n",
    "# Similarly, On y-axis(x2), 12 is the central value and 2 is the deviation on either side(up and down).\n",
    "top_region = np.array([np.random.normal(10, 2, n_pts), np.random.normal(12, 2, n_pts), bias]).T\n",
    "# Blue Points. Generating random points in the bottom region(blue). Shape - (100, 3) .\n",
    "# On x-axis(x1), 5 is the central value and 2 is the deviation on either side(left and right).\n",
    "# Similarly, On y-axis(x2), 6 is the central value and 2 is the deviation on either side(up and down).\n",
    "bottom_region = np.array([np.random.normal(5, 2, n_pts), np.random.normal(6, 2, n_pts), bias]).T\n",
    "# Combined array of red and blue points. Shape - (200, 3)\n",
    "all_points = np.vstack((top_region, bottom_region))\n",
    "# Matrix containing w1, w1 and b. Shape - (3, 1)\n",
    "line_parameters = np.matrix([np.zeros(3)]).T\n",
    "# # Storing minimum and maximum values on the x-axis(x1) from the array of points to draw an initial line.\n",
    "# x1 = np.array([bottom_region[:, 0].min(), top_region[:, 0].max()])\n",
    "# # Calculating values on the y-axis(x2) corresponding to that of x1 above.\n",
    "# x2 = -b/w2 + (x1 * (-w1/w2))\n",
    "# y contains the labels which are used to denote the red and blue points. 1 represents blue points. 0 represents red points.\n",
    "y = np.array([np.zeros(n_pts), np.ones(n_pts)]).reshape(n_pts*2, 1)"
   ]
  },
  {
   "cell_type": "code",
   "execution_count": 10,
   "metadata": {},
   "outputs": [
    {
     "data": {
      "image/png": "[encoded data removed]",
      "text/plain": [
       "<Figure size 288x288 with 1 Axes>"
      ]
     },
     "metadata": {
      "needs_background": "light"
     },
     "output_type": "display_data"
    }
   ],
   "source": [
    "# Multiplying the data points with their weights. Shape - (200, 1)\n",
    "linear_combination = all_points*line_parameters\n",
    "# Calculating sigmoid value of each linear_combination. Shape - (200, 1)\n",
    "probabilities = sigmoid(linear_combination)  \n",
    "_, ax= plt.subplots(figsize = (4, 4))\n",
    "# Plotting the top-region points in red color\n",
    "ax.scatter(top_region[:, 0], top_region[:, 1], color = 'r')\n",
    "# Plotting the bottom-region points in blue color\n",
    "ax.scatter(bottom_region[:, 0], bottom_region[:, 1], color = 'b')\n",
    "gradient_descent(line_parameters, all_points, y , 0.06)\n",
    "plt.show()"
   ]
  },
  {
   "cell_type": "code",
   "execution_count": null,
   "metadata": {},
   "outputs": [],
   "source": []
  }
 ],
 "metadata": {
  "kernelspec": {
   "display_name": "Python 3",
   "language": "python",
   "name": "python3"
  },
  "language_info": {
   "codemirror_mode": {
    "name": "ipython",
    "version": 3
   },
   "file_extension": ".py",
   "mimetype": "text/x-python",
   "name": "python",
   "nbconvert_exporter": "python",
   "pygments_lexer": "ipython3",
   "version": "3.7.4"
  }
 },
 "nbformat": 4,
 "nbformat_minor": 4
}
