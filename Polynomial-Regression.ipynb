{
 "cells": [
  {
   "cell_type": "code",
   "execution_count": 6,
   "metadata": {},
   "outputs": [],
   "source": [
    "import numpy as np\n",
    "import matplotlib.pyplot as plt\n",
    "from keras.models import Sequential\n",
    "from keras.layers import Dense\n",
    "from keras.optimizers import Adam"
   ]
  },
  {
   "cell_type": "code",
   "execution_count": 7,
   "metadata": {},
   "outputs": [],
   "source": [
    "np.random.seed(0)\n",
    "points = 500\n",
    "X = np.linspace(-3, 3, points)\n",
    "y = np.sin(X) + np.random.uniform(-0.5, 0.5, points)"
   ]
  },
  {
   "cell_type": "code",
   "execution_count": 8,
   "metadata": {},
   "outputs": [],
   "source": [
    "model = Sequential()\n",
    "model.add(Dense(50, activation='sigmoid', input_dim=1))\n",
    "model.add(Dense(30, activation='sigmoid'))\n",
    "model.add(Dense(1))\n",
    "adam = Adam(lr=0.01)\n",
    "model.compile(loss='mse', optimizer=adam)"
   ]
  },
  {
   "cell_type": "code",
   "execution_count": 9,
   "metadata": {},
   "outputs": [
    {
     "name": "stdout",
     "output_type": "stream",
     "text": [
      "Epoch 1/50\n",
      "500/500 [==============================] - 0s 726us/step - loss: 0.4560\n",
      "Epoch 2/50\n",
      "500/500 [==============================] - 0s 28us/step - loss: 0.2402\n",
      "Epoch 3/50\n",
      "500/500 [==============================] - 0s 28us/step - loss: 0.2621\n",
      "Epoch 4/50\n",
      "500/500 [==============================] - 0s 32us/step - loss: 0.2258\n",
      "Epoch 5/50\n",
      "500/500 [==============================] - 0s 34us/step - loss: 0.2284\n",
      "Epoch 6/50\n",
      "500/500 [==============================] - 0s 38us/step - loss: 0.2253\n",
      "Epoch 7/50\n",
      "500/500 [==============================] - 0s 34us/step - loss: 0.2180\n",
      "Epoch 8/50\n",
      "500/500 [==============================] - 0s 30us/step - loss: 0.2205\n",
      "Epoch 9/50\n",
      "500/500 [==============================] - 0s 48us/step - loss: 0.2049\n",
      "Epoch 10/50\n",
      "500/500 [==============================] - 0s 34us/step - loss: 0.1915\n",
      "Epoch 11/50\n",
      "500/500 [==============================] - 0s 30us/step - loss: 0.1916\n",
      "Epoch 12/50\n",
      "500/500 [==============================] - 0s 30us/step - loss: 0.1784\n",
      "Epoch 13/50\n",
      "500/500 [==============================] - 0s 34us/step - loss: 0.1691\n",
      "Epoch 14/50\n",
      "500/500 [==============================] - 0s 32us/step - loss: 0.1585\n",
      "Epoch 15/50\n",
      "500/500 [==============================] - 0s 32us/step - loss: 0.1560\n",
      "Epoch 16/50\n",
      "500/500 [==============================] - 0s 28us/step - loss: 0.1453\n",
      "Epoch 17/50\n",
      "500/500 [==============================] - 0s 28us/step - loss: 0.1389\n",
      "Epoch 18/50\n",
      "500/500 [==============================] - 0s 28us/step - loss: 0.1314\n",
      "Epoch 19/50\n",
      "500/500 [==============================] - 0s 30us/step - loss: 0.1224\n",
      "Epoch 20/50\n",
      "500/500 [==============================] - 0s 32us/step - loss: 0.1273\n",
      "Epoch 21/50\n",
      "500/500 [==============================] - 0s 28us/step - loss: 0.1181\n",
      "Epoch 22/50\n",
      "500/500 [==============================] - 0s 30us/step - loss: 0.1170\n",
      "Epoch 23/50\n",
      "500/500 [==============================] - 0s 36us/step - loss: 0.1185\n",
      "Epoch 24/50\n",
      "500/500 [==============================] - 0s 32us/step - loss: 0.1177\n",
      "Epoch 25/50\n",
      "500/500 [==============================] - 0s 28us/step - loss: 0.1114\n",
      "Epoch 26/50\n",
      "500/500 [==============================] - 0s 24us/step - loss: 0.1081\n",
      "Epoch 27/50\n",
      "500/500 [==============================] - 0s 26us/step - loss: 0.1112\n",
      "Epoch 28/50\n",
      "500/500 [==============================] - 0s 26us/step - loss: 0.1245\n",
      "Epoch 29/50\n",
      "500/500 [==============================] - 0s 28us/step - loss: 0.1239\n",
      "Epoch 30/50\n",
      "500/500 [==============================] - 0s 32us/step - loss: 0.1130\n",
      "Epoch 31/50\n",
      "500/500 [==============================] - 0s 36us/step - loss: 0.1079\n",
      "Epoch 32/50\n",
      "500/500 [==============================] - 0s 38us/step - loss: 0.1144\n",
      "Epoch 33/50\n",
      "500/500 [==============================] - 0s 32us/step - loss: 0.1081\n",
      "Epoch 34/50\n",
      "500/500 [==============================] - 0s 30us/step - loss: 0.1112\n",
      "Epoch 35/50\n",
      "500/500 [==============================] - 0s 34us/step - loss: 0.1048\n",
      "Epoch 36/50\n",
      "500/500 [==============================] - 0s 30us/step - loss: 0.1088\n",
      "Epoch 37/50\n",
      "500/500 [==============================] - 0s 32us/step - loss: 0.1069\n",
      "Epoch 38/50\n",
      "500/500 [==============================] - 0s 40us/step - loss: 0.1056\n",
      "Epoch 39/50\n",
      "500/500 [==============================] - 0s 28us/step - loss: 0.1052\n",
      "Epoch 40/50\n",
      "500/500 [==============================] - 0s 30us/step - loss: 0.1047\n",
      "Epoch 41/50\n",
      "500/500 [==============================] - 0s 30us/step - loss: 0.1153\n",
      "Epoch 42/50\n",
      "500/500 [==============================] - 0s 32us/step - loss: 0.1032\n",
      "Epoch 43/50\n",
      "500/500 [==============================] - 0s 30us/step - loss: 0.1033\n",
      "Epoch 44/50\n",
      "500/500 [==============================] - 0s 30us/step - loss: 0.1059\n",
      "Epoch 45/50\n",
      "500/500 [==============================] - 0s 34us/step - loss: 0.1020\n",
      "Epoch 46/50\n",
      "500/500 [==============================] - 0s 30us/step - loss: 0.1019\n",
      "Epoch 47/50\n",
      "500/500 [==============================] - 0s 32us/step - loss: 0.1124\n",
      "Epoch 48/50\n",
      "500/500 [==============================] - 0s 32us/step - loss: 0.1088\n",
      "Epoch 49/50\n",
      "500/500 [==============================] - 0s 32us/step - loss: 0.1043\n",
      "Epoch 50/50\n",
      "500/500 [==============================] - 0s 32us/step - loss: 0.1080\n"
     ]
    },
    {
     "data": {
      "text/plain": [
       "<keras.callbacks.History at 0x2b0873785c8>"
      ]
     },
     "execution_count": 9,
     "metadata": {},
     "output_type": "execute_result"
    }
   ],
   "source": [
    "model.fit(X, y, epochs=50)"
   ]
  },
  {
   "cell_type": "code",
   "execution_count": 10,
   "metadata": {},
   "outputs": [
    {
     "data": {
      "image/png": "[encoded data removed]",
      "text/plain": [
       "<Figure size 432x288 with 1 Axes>"
      ]
     },
     "metadata": {
      "needs_background": "light"
     },
     "output_type": "display_data"
    }
   ],
   "source": [
    "predictions = model.predict(X)\n",
    "plt.scatter(X, y)\n",
    "plt.plot(X, predictions, 'ro')\n",
    "plt.show()"
   ]
  }
 ],
 "metadata": {
  "kernelspec": {
   "display_name": "Python 3",
   "language": "python",
   "name": "python3"
  },
  "language_info": {
   "codemirror_mode": {
    "name": "ipython",
    "version": 3
   },
   "file_extension": ".py",
   "mimetype": "text/x-python",
   "name": "python",
   "nbconvert_exporter": "python",
   "pygments_lexer": "ipython3",
   "version": "3.7.6"
  }
 },
 "nbformat": 4,
 "nbformat_minor": 4
}
